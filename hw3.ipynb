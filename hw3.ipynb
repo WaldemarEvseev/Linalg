{
 "cells": [
  {
   "cell_type": "markdown",
   "metadata": {},
   "source": [
    "## Практическое задание"
   ]
  },
  {
   "cell_type": "markdown",
   "metadata": {},
   "source": [
    "__Задание 1.__ Найти собственные векторы и собственные значения для линейного оператора, заданного матрицей\n",
    "\n",
    "$$A=\\begin{pmatrix}\n",
    "-1 & -6\\\\ \n",
    "2 & 6\n",
    "\\end{pmatrix}.$$\n"
   ]
  },
  {
   "cell_type": "markdown",
   "metadata": {},
   "source": [
    "*Решение:*\n",
    "\n",
    "Найдем собственные значения линейного оператора, составив и решив характеристическое уравнение:\n",
    "\n",
    "$$\\begin{vmatrix}\n",
    "-1-\\lambda & -6\\\\ \n",
    "2 & 6-\\lambda\n",
    "\\end{vmatrix} = 0,$$"
   ]
  },
  {
   "cell_type": "markdown",
   "metadata": {},
   "source": [
    "$$ (-1-\\lambda)\\times(6-\\lambda) + 2\\times6 = 0$$"
   ]
  },
  {
   "cell_type": "markdown",
   "metadata": {},
   "source": [
    "$$ -6 +\\lambda -6\\lambda + \\lambda^2 + 12 = 0$$"
   ]
  },
  {
   "cell_type": "markdown",
   "metadata": {},
   "source": [
    "$$ \\lambda^2 -5\\lambda + 6 = 0$$\n",
    "\n",
    "По теореме Виета, получаем собственные значения:\n",
    "\n",
    "$\\lambda = 2$ \n",
    "\n",
    "$\\lambda = 3$\n",
    "\n"
   ]
  },
  {
   "cell_type": "markdown",
   "metadata": {},
   "source": [
    "Найдем собственные векторы:\n",
    "\n",
    "$$\n",
    "\\begin{pmatrix}\n",
    "-1 & 6\\\\ \n",
    "2 & 6\n",
    "\\end{pmatrix}\n",
    "\\times\n",
    "\\begin{pmatrix}\n",
    "x_0\\\\ \n",
    "x_1\n",
    "\\end{pmatrix}\n",
    "=\n",
    "2\n",
    "\\begin{pmatrix}\n",
    "x_0\\\\ \n",
    "x_1\n",
    "\\end{pmatrix}$$"
   ]
  },
  {
   "cell_type": "markdown",
   "metadata": {},
   "source": [
    "$$\\begin{cases}\n",
    "-x_0+6x_1=2x_0\\\\ \n",
    "2x_0+6x_1=2x_1\\\\\n",
    "\\end{cases}\n",
    "\\Rightarrow\n",
    "\\begin{cases}\n",
    "x_0=2x_1\\\\ \n",
    "2\\times2x_1+6x_1=2x_1\\\\\n",
    "\\end{cases}\n",
    "\\Rightarrow\n",
    "\\begin{pmatrix}\n",
    "x_0\\\\ \n",
    "x_1\n",
    "\\end{pmatrix}\n",
    "=\n",
    "\\begin{pmatrix}\n",
    "0\\\\ \n",
    "0\n",
    "\\end{pmatrix}$$\n",
    "\n",
    "Такой же собственный вектор получим и для собственного значения $\\lambda = 3$"
   ]
  },
  {
   "cell_type": "markdown",
   "metadata": {},
   "source": [
    "\n",
    "__Задание 2.__ Дан оператор поворота на 180 градусов, задаваемый матрицей \n",
    "\n",
    "$$A=\\begin{pmatrix}\n",
    "-1 & 0\\\\ \n",
    "0 & -1\n",
    "\\end{pmatrix}.$$\n",
    "\n",
    "Показать, что __любой__ вектор является для него собственным.\n",
    "\n"
   ]
  },
  {
   "cell_type": "markdown",
   "metadata": {},
   "source": [
    "*Решение:*\n",
    "\n",
    "$$A=\\begin{pmatrix}\n",
    "-1 & 0\\\\ \n",
    "0 & -1\n",
    "\\end{pmatrix} \n",
    "=-\n",
    "\\begin{pmatrix}\n",
    "1 & 0\\\\ \n",
    "0 & 1\n",
    "\\end{pmatrix}$$\n",
    "\n",
    "Перед нами единичная матрица, умножение на которую не изменяет умножаемую матрицу или вектор. \n",
    "\n",
    "$$-\n",
    "\\begin{pmatrix}\n",
    "1 & 0\\\\ \n",
    "0 & 1\n",
    "\\end{pmatrix}\n",
    "\\times\n",
    "\\begin{pmatrix}\n",
    "x_0\\\\ \n",
    "x_1\n",
    "\\end{pmatrix}\n",
    "=\n",
    "\\lambda\n",
    "\\begin{pmatrix}\n",
    "x_0\\\\ \n",
    "x_1\n",
    "\\end{pmatrix}$$\n",
    "\n",
    "$$\\Rightarrow$$\n",
    "\n",
    "$$-\n",
    "\\begin{pmatrix}\n",
    "x_0\\\\ \n",
    "x_1\n",
    "\\end{pmatrix}\n",
    "=\n",
    "\\lambda\n",
    "\\begin{pmatrix}\n",
    "x_0\\\\ \n",
    "x_1\n",
    "\\end{pmatrix}$$\n",
    "\n",
    "*Ответ:* Таким образом, равенство всегда будет выполняться для собственного значения $\\lambda = -1$\n"
   ]
  },
  {
   "cell_type": "markdown",
   "metadata": {},
   "source": [
    "__Задание 3.__ Пусть линейный оператор задан матрицей\n",
    "\n",
    "$$A=\\begin{pmatrix}\n",
    "1 & 1\\\\ \n",
    "-1 & 3\n",
    "\\end{pmatrix}.$$\n",
    "\n",
    "Установить, является ли вектор $x=(1,1)$ собственным вектором этого линейного оператора.\n",
    "\n"
   ]
  },
  {
   "cell_type": "markdown",
   "metadata": {},
   "source": [
    "*Решение:*\n",
    "\n",
    "$$\\begin{pmatrix}\n",
    "1 & 1\\\\ \n",
    "-1 & 3\n",
    "\\end{pmatrix} \n",
    "\\times\n",
    "\\begin{pmatrix}\n",
    "1  \\\\ \n",
    "1\n",
    "\\end{pmatrix}\n",
    "=\n",
    "\\lambda\n",
    "\\begin{pmatrix}\n",
    "1  \\\\ \n",
    "1\n",
    "\\end{pmatrix}$$"
   ]
  },
  {
   "cell_type": "markdown",
   "metadata": {},
   "source": [
    "$$\\begin{cases}\n",
    "1+1=\\lambda\\\\ \n",
    "-1+3=\\lambda\\\\\n",
    "\\end{cases}\n",
    "\\Rightarrow\n",
    "\\lambda = 2$$"
   ]
  },
  {
   "cell_type": "markdown",
   "metadata": {},
   "source": [
    "*Ответ:* Таким образом, вектор $x=(1,1)$ является собственным вектором линейного оператора, заданного матрицей $A$, и его собственное значение составляет $\\lambda=2$"
   ]
  },
  {
   "cell_type": "markdown",
   "metadata": {},
   "source": [
    "__Задание 4.__ Пусть линейный оператор задан матрицей\n",
    "\n",
    "$$A=\\begin{pmatrix}\n",
    "0 & 3 & 0\\\\ \n",
    "3 & 0 & 0\\\\\n",
    "0 & 0 & 3\n",
    "\\end{pmatrix}.$$\n",
    "\n",
    "Установить, является ли вектор $x=(3, -3, -4)$ собственным вектором этого линейного оператора."
   ]
  },
  {
   "cell_type": "markdown",
   "metadata": {},
   "source": [
    "*Решение:*\n",
    "\n",
    "$$\\begin{pmatrix}\n",
    "0 & 3 & 0\\\\ \n",
    "3 & 0 & 0\\\\\n",
    "0 & 0 & 3\n",
    "\\end{pmatrix}\n",
    "\\begin{pmatrix}\n",
    "3\\\\\n",
    "-3\\\\\n",
    "-4\n",
    "\\end{pmatrix}=\n",
    "\\lambda\n",
    "\\begin{pmatrix}\n",
    "3\\\\\n",
    "-3\\\\\n",
    "-4\n",
    "\\end{pmatrix}\n",
    "$$\n"
   ]
  },
  {
   "cell_type": "markdown",
   "metadata": {},
   "source": [
    "$$\\begin{cases}\n",
    "-3\\times3 = 3\\lambda\\\\ \n",
    "3\\times3= -3\\lambda\\\\\n",
    "-4\\times3 = -4\\lambda\\\\\n",
    "\\end{cases}\n",
    "\\Rightarrow\n",
    "\\begin{cases}\n",
    "\\lambda = -3\\\\ \n",
    "\\lambda = -3\\\\\n",
    "\\lambda = 3\\\\\n",
    "\\end{cases}$$"
   ]
  },
  {
   "cell_type": "markdown",
   "metadata": {},
   "source": [
    "*Ответ:* Такая система не имеет подходящего решения, следовательно, вектор $x=(1,-3, -4)$ не является собственным вектором линейного оператора, заданного матрицей $A$"
   ]
  },
  {
   "cell_type": "code",
   "execution_count": null,
   "metadata": {},
   "outputs": [],
   "source": []
  }
 ],
 "metadata": {
  "kernelspec": {
   "display_name": "Python 3",
   "language": "python",
   "name": "python3"
  },
  "language_info": {
   "codemirror_mode": {
    "name": "ipython",
    "version": 3
   },
   "file_extension": ".py",
   "mimetype": "text/x-python",
   "name": "python",
   "nbconvert_exporter": "python",
   "pygments_lexer": "ipython3",
   "version": "3.7.3"
  }
 },
 "nbformat": 4,
 "nbformat_minor": 2
}
